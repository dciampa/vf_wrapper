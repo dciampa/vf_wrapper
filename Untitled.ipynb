{
 "cells": [
  {
   "cell_type": "code",
   "execution_count": 2,
   "metadata": {},
   "outputs": [],
   "source": [
    "import numpy as np\n",
    "\n",
    "file='UVQSJ101_data'"
   ]
  },
  {
   "cell_type": "code",
   "execution_count": 4,
   "metadata": {},
   "outputs": [
    {
     "name": "stdout",
     "output_type": "stream",
     "text": [
      "1 Ion\t\tv_c \tb \tN \t\tN_e\n",
      "\n",
      "2 # UVQSJ101629\tZ=-1.21\n",
      "\n",
      "3 HI  \t+210\t0\t18.470 \t0.050\n",
      "\n",
      "4 OI  \t+215\t40\t13.960\t0.310\n",
      "\n",
      "5 SII \t+215\t40\t14.620\t0.000\n",
      "\n",
      "6 SiII \t+209\t33\t12.757\t0.098\n",
      "\n",
      "7 SiII\t+253\t12\t12.472\t0.119\n",
      "\n",
      "8 SiIII\t+156\t14\t12.552\t0.166\n",
      "\n",
      "9 SiIII\t+224\t30\t13.020\t0.087\n",
      "\n",
      "10 # NGC3125\tZ=-1.40\n",
      "\n",
      "11 HI\t\t+210\t0 \t19.050 \t0.050\n",
      "\n",
      "12 OI\t\t+208\t38\t14.370\t0.280\n",
      "\n",
      "13 SII \t+208\t38\t14.900\t0.000\n",
      "\n",
      "14 SiII \t+197\t37\t13.164\t0.072\n",
      "\n",
      "15 SiIV\t+206\t54 \t12.868\t0.171\n"
     ]
    }
   ],
   "source": [
    "# Find all line numbers in the file that have the target name,\n",
    "# which act like mini headers\n",
    "lnum=[] # Create a blank list for the line numbers of the header rows.\n",
    "transition_list=[] # Blank list for the ion and wavelength from header rows in the spectral file\n",
    "with open(file) as myFile:\n",
    "    # Read all of each line in the file and store the information as line.\n",
    "    # For each line read in, num will grow by 1.\n",
    "    for num, line in enumerate(myFile, 1):\n",
    "        # Search for the target name in the read in line. If it matches, save that line number.\n",
    "        print(num,line)"
   ]
  },
  {
   "cell_type": "code",
   "execution_count": null,
   "metadata": {},
   "outputs": [],
   "source": []
  }
 ],
 "metadata": {
  "kernelspec": {
   "display_name": "Python 3",
   "language": "python",
   "name": "python3"
  },
  "language_info": {
   "codemirror_mode": {
    "name": "ipython",
    "version": 3
   },
   "file_extension": ".py",
   "mimetype": "text/x-python",
   "name": "python",
   "nbconvert_exporter": "python",
   "pygments_lexer": "ipython3",
   "version": "3.7.4"
  }
 },
 "nbformat": 4,
 "nbformat_minor": 2
}
